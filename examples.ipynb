{
 "cells": [
  {
   "cell_type": "code",
   "execution_count": 2,
   "source": [
    "from tensorflow.keras.models import load_model\r\n",
    "from modeling import predict_word, beam_search"
   ],
   "outputs": [],
   "metadata": {}
  },
  {
   "cell_type": "code",
   "execution_count": 3,
   "source": [
    "model = load_model('best_model.hdf5')"
   ],
   "outputs": [],
   "metadata": {}
  },
  {
   "cell_type": "code",
   "execution_count": 4,
   "source": [
    "inputs = [\r\n",
    "    'ես գնացել',\r\n",
    "    'մենք գնացել',\r\n",
    "    'դու գնացել',\r\n",
    "    'դուք գնացել',\r\n",
    "    'նա գնացել', \r\n",
    "    'նրանք գնացել', \r\n",
    "]\r\n",
    "for i in inputs:\r\n",
    "    print(predict_word(i, model=model))"
   ],
   "outputs": [
    {
     "output_type": "stream",
     "name": "stdout",
     "text": [
      "ես գնացել | եմ\n",
      "մենք գնացել | ենք\n",
      "դու գնացել | ես\n",
      "դուք գնացել | եք\n",
      "նա գնացել | է\n",
      "նրանք գնացել | են\n"
     ]
    }
   ],
   "metadata": {}
  },
  {
   "cell_type": "code",
   "execution_count": 5,
   "source": [
    "inputs = [\r\n",
    "    'մենք դիմել ենք մեր',\r\n",
    "    'առավոտյան նա դուրս է գալիս',\r\n",
    "    'նայում ու հիանում էր իր ստեղծած',\r\n",
    "    'Համերգը տեղի է ունեցել մարզահամերգային',\r\n",
    "    'խնդրում եմ ինձ տուր այդ'\r\n",
    "]\r\n",
    "for i in inputs:\r\n",
    "    print(predict_word(i, model=model))"
   ],
   "outputs": [
    {
     "output_type": "stream",
     "name": "stdout",
     "text": [
      "մենք դիմել ենք մեր | ժողովրդին\n",
      "առավոտյան նա դուրս է գալիս | տնից\n",
      "նայում ու հիանում էր իր ստեղծած | պատմությամբ\n",
      "Համերգը տեղի է ունեցել մարզահամերգային | համալիրում\n",
      "խնդրում եմ ինձ տուր այդ | ամենը\n"
     ]
    }
   ],
   "metadata": {}
  },
  {
   "cell_type": "code",
   "execution_count": 7,
   "source": [
    "inputs = [\r\n",
    "    'Առողջ սնվելու դեպքում հնարավոր է',\r\n",
    "    'Ինչքա՞ն կարելի է ամեն անգամ',\r\n",
    "    'Ինքն էլ ասաց՝ չի բացառվում, որ',\r\n",
    "    'Փաստաբանը ներկայացրեց բոլոր',\r\n",
    "    'Եթե սահմանները բացվեն, տուրիզմը կարող է',\r\n",
    "    'Քիմը և Քանյեն արդեն',\r\n",
    "    'Մենք շատ հետքրքիր պատմություն ունենք'\r\n",
    "]\r\n",
    "for txt in inputs:\r\n",
    "    print(txt+' | ',beam_search(txt, model=model, k=9, nwords=7))"
   ],
   "outputs": [
    {
     "output_type": "stream",
     "name": "stdout",
     "text": [
      "Առողջ սնվելու դեպքում հնարավոր է |  վիրահատական բուժում ստանալ .\n",
      "Ինչքա՞ն կարելի է ամեն անգամ |  ասել թե ինչ է տեղի ունենում\n",
      "Ինքն էլ ասաց՝ չի բացառվում, որ |  այս ամենը պետք է լինի\n",
      "Փաստաբանը ներկայացրեց բոլոր |  փաստաթղթերը որոնք վերաբերում են num թ ին .\n",
      "Եթե սահմանները բացվեն, տուրիզմը կարող է |  տևել մինչև num թվականը .\n",
      "Քիմը և Քանյեն արդեն |  ամուսնացած են եղել\n",
      "Մենք շատ հետքրքիր պատմություն ունենք |  բայց մենք չենք կարող ասել որ\n"
     ]
    }
   ],
   "metadata": {}
  },
  {
   "cell_type": "code",
   "execution_count": 9,
   "source": [
    "inputs = [\r\n",
    "    'առավոտյան մեկ բաժակ սուրճ խմելուց հետո',\r\n",
    "    'Ինչքա՞ն կարելի է ամեն անգամ',\r\n",
    "    'Ինքն էլ ասաց՝ չի բացառվում, որ',\r\n",
    "    'Փաստաբանը ներկայացրեց բոլոր',\r\n",
    "    'Եթե սահմանները բացվեն, տուրիզմը կարող է',\r\n",
    "    'Քիմը և Քանյեն արդեն',\r\n",
    "    'Մենք շատ հետքրքիր պատմություն ունենք'\r\n",
    "]\r\n",
    "for txt in inputs:\r\n",
    "    print(txt+' | ',beam_search(txt, model=model, k=7, nwords=7))"
   ],
   "outputs": [
    {
     "output_type": "stream",
     "name": "stdout",
     "text": [
      "առավոտյան մեկ բաժակ սուրճ խմելուց հետո |  num բաժակ ջուր է խմել .\n",
      "Ինչքա՞ն կարելի է ամեն անգամ |  ասել որ մենք պետք է\n",
      "Ինքն էլ ասաց՝ չի բացառվում, որ |  այս ամենը պետք է լինի\n",
      "Փաստաբանը ներկայացրեց բոլոր |  փաստաթղթերը որոնք վերաբերում են num թվականի մայիսի num\n",
      "Եթե սահմանները բացվեն, տուրիզմը կարող է |  տևել մինչև num թվականը .\n",
      "Քիմը և Քանյեն արդեն |  ամուսնացած են եղել\n",
      "Մենք շատ հետքրքիր պատմություն ունենք |  բայց մենք չենք կարող ասել որ\n"
     ]
    }
   ],
   "metadata": {}
  }
 ],
 "metadata": {
  "orig_nbformat": 4,
  "language_info": {
   "name": "python",
   "version": "3.9.4",
   "mimetype": "text/x-python",
   "codemirror_mode": {
    "name": "ipython",
    "version": 3
   },
   "pygments_lexer": "ipython3",
   "nbconvert_exporter": "python",
   "file_extension": ".py"
  },
  "kernelspec": {
   "name": "python3",
   "display_name": "Python 3.9.4 64-bit ('tfenv': conda)"
  },
  "interpreter": {
   "hash": "ac4c0fb5113be603be99fd3dc8065b6412c0520f25233b92ce10a343564589db"
  }
 },
 "nbformat": 4,
 "nbformat_minor": 2
}